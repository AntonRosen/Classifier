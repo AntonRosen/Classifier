{
 "cells": [
  {
   "cell_type": "code",
   "execution_count": 2,
   "id": "86561712",
   "metadata": {},
   "outputs": [
    {
     "name": "stderr",
     "output_type": "stream",
     "text": [
      "C:\\Users\\anton\\anaconda3\\lib\\site-packages\\tensorflow_addons\\utils\\ensure_tf_install.py:53: UserWarning: Tensorflow Addons supports using Python ops for all Tensorflow versions above or equal to 2.5.0 and strictly below 2.8.0 (nightly versions are not supported). \n",
      " The versions of TensorFlow you are currently using is 2.8.0 and is not supported. \n",
      "Some things might work, some things might not.\n",
      "If you were to encounter a bug, do not file an issue.\n",
      "If you want to make sure you're using a tested and supported configuration, either change the TensorFlow version or the TensorFlow Addons's version. \n",
      "You can find the compatibility matrix in TensorFlow Addon's readme:\n",
      "https://github.com/tensorflow/addons\n",
      "  warnings.warn(\n"
     ]
    }
   ],
   "source": [
    "import pandas as pd\n",
    "import numpy as np\n",
    "import tensorflow as tf\n",
    "import tensorflow_addons as tfa\n",
    "\n",
    "from transformers import BertTokenizer, TFBertForSequenceClassification\n",
    "\n",
    "from sklearn.model_selection import train_test_split"
   ]
  },
  {
   "cell_type": "code",
   "execution_count": 18,
   "id": "25c1f400",
   "metadata": {},
   "outputs": [
    {
     "name": "stderr",
     "output_type": "stream",
     "text": [
      "C:\\Users\\anton\\AppData\\Local\\Temp/ipykernel_19892/3805410947.py:2: FutureWarning: In a future version of pandas all arguments of DataFrame.drop except for the argument 'labels' will be keyword-only\n",
      "  df = df.drop('Unnamed: 0', 1)\n"
     ]
    },
    {
     "data": {
      "text/html": [
       "<div>\n",
       "<style scoped>\n",
       "    .dataframe tbody tr th:only-of-type {\n",
       "        vertical-align: middle;\n",
       "    }\n",
       "\n",
       "    .dataframe tbody tr th {\n",
       "        vertical-align: top;\n",
       "    }\n",
       "\n",
       "    .dataframe thead th {\n",
       "        text-align: right;\n",
       "    }\n",
       "</style>\n",
       "<table border=\"1\" class=\"dataframe\">\n",
       "  <thead>\n",
       "    <tr style=\"text-align: right;\">\n",
       "      <th></th>\n",
       "      <th>n</th>\n",
       "      <th>Labels</th>\n",
       "      <th>comment_text</th>\n",
       "    </tr>\n",
       "  </thead>\n",
       "  <tbody>\n",
       "    <tr>\n",
       "      <th>0</th>\n",
       "      <td>16.0</td>\n",
       "      <td>0</td>\n",
       "      <td>rapporterade avpixlat om för någon timme sedan...</td>\n",
       "    </tr>\n",
       "    <tr>\n",
       "      <th>1</th>\n",
       "      <td>24.0</td>\n",
       "      <td>0</td>\n",
       "      <td>hemskt det som hänt  undra om det kommer en an...</td>\n",
       "    </tr>\n",
       "    <tr>\n",
       "      <th>2</th>\n",
       "      <td>55.0</td>\n",
       "      <td>0</td>\n",
       "      <td>det finns redan visst skydd på gatan  bl a  be...</td>\n",
       "    </tr>\n",
       "    <tr>\n",
       "      <th>3</th>\n",
       "      <td>34.0</td>\n",
       "      <td>0</td>\n",
       "      <td>det är helt omöjligt att köra med lastbil på d...</td>\n",
       "    </tr>\n",
       "    <tr>\n",
       "      <th>4</th>\n",
       "      <td>21.0</td>\n",
       "      <td>1</td>\n",
       "      <td>jimmie åkesson hade en längre utläggning i svt...</td>\n",
       "    </tr>\n",
       "    <tr>\n",
       "      <th>...</th>\n",
       "      <td>...</td>\n",
       "      <td>...</td>\n",
       "      <td>...</td>\n",
       "    </tr>\n",
       "    <tr>\n",
       "      <th>9680</th>\n",
       "      <td>59.0</td>\n",
       "      <td>2</td>\n",
       "      <td>frågan om det var planerat eller stundens ingi...</td>\n",
       "    </tr>\n",
       "    <tr>\n",
       "      <th>9681</th>\n",
       "      <td>NaN</td>\n",
       "      <td>2</td>\n",
       "      <td>samt ljuger de för allmänheten svensk polis i ...</td>\n",
       "    </tr>\n",
       "    <tr>\n",
       "      <th>9682</th>\n",
       "      <td>NaN</td>\n",
       "      <td>2</td>\n",
       "      <td>ok experten jag demolerar nu också mitt fantas...</td>\n",
       "    </tr>\n",
       "    <tr>\n",
       "      <th>9683</th>\n",
       "      <td>NaN</td>\n",
       "      <td>2</td>\n",
       "      <td>han ska inte vara med här punkt</td>\n",
       "    </tr>\n",
       "    <tr>\n",
       "      <th>9684</th>\n",
       "      <td>NaN</td>\n",
       "      <td>2</td>\n",
       "      <td>för man beter sig ganska normalt efter tiden m...</td>\n",
       "    </tr>\n",
       "  </tbody>\n",
       "</table>\n",
       "<p>9685 rows × 3 columns</p>\n",
       "</div>"
      ],
      "text/plain": [
       "         n  Labels                                       comment_text\n",
       "0     16.0       0  rapporterade avpixlat om för någon timme sedan...\n",
       "1     24.0       0  hemskt det som hänt  undra om det kommer en an...\n",
       "2     55.0       0  det finns redan visst skydd på gatan  bl a  be...\n",
       "3     34.0       0  det är helt omöjligt att köra med lastbil på d...\n",
       "4     21.0       1  jimmie åkesson hade en längre utläggning i svt...\n",
       "...    ...     ...                                                ...\n",
       "9680  59.0       2  frågan om det var planerat eller stundens ingi...\n",
       "9681   NaN       2  samt ljuger de för allmänheten svensk polis i ...\n",
       "9682   NaN       2  ok experten jag demolerar nu också mitt fantas...\n",
       "9683   NaN       2                    han ska inte vara med här punkt\n",
       "9684   NaN       2  för man beter sig ganska normalt efter tiden m...\n",
       "\n",
       "[9685 rows x 3 columns]"
      ]
     },
     "execution_count": 18,
     "metadata": {},
     "output_type": "execute_result"
    }
   ],
   "source": [
    "df = pd.read_csv('df-for-bert-with-UD-final.csv')\n",
    "df = df.drop('Unnamed: 0', 1)\n",
    "df"
   ]
  },
  {
   "cell_type": "code",
   "execution_count": 20,
   "id": "ea1bd300",
   "metadata": {},
   "outputs": [
    {
     "name": "stderr",
     "output_type": "stream",
     "text": [
      "C:\\Users\\anton\\AppData\\Local\\Temp/ipykernel_19892/525790782.py:2: FutureWarning: In a future version of pandas all arguments of DataFrame.drop except for the argument 'labels' will be keyword-only\n",
      "  df_for_eval = df_for_eval.drop('Unnamed: 0', 1)\n"
     ]
    },
    {
     "data": {
      "text/html": [
       "<div>\n",
       "<style scoped>\n",
       "    .dataframe tbody tr th:only-of-type {\n",
       "        vertical-align: middle;\n",
       "    }\n",
       "\n",
       "    .dataframe tbody tr th {\n",
       "        vertical-align: top;\n",
       "    }\n",
       "\n",
       "    .dataframe thead th {\n",
       "        text-align: right;\n",
       "    }\n",
       "</style>\n",
       "<table border=\"1\" class=\"dataframe\">\n",
       "  <thead>\n",
       "    <tr style=\"text-align: right;\">\n",
       "      <th></th>\n",
       "      <th>n</th>\n",
       "      <th>Labels</th>\n",
       "      <th>comment_text</th>\n",
       "    </tr>\n",
       "  </thead>\n",
       "  <tbody>\n",
       "    <tr>\n",
       "      <th>0</th>\n",
       "      <td>11</td>\n",
       "      <td>0</td>\n",
       "      <td>här ses lastbilen susa förbi filmat från överv...</td>\n",
       "    </tr>\n",
       "    <tr>\n",
       "      <th>1</th>\n",
       "      <td>35</td>\n",
       "      <td>0</td>\n",
       "      <td>spendrups berättar att chauffören börjat lasta...</td>\n",
       "    </tr>\n",
       "    <tr>\n",
       "      <th>2</th>\n",
       "      <td>9</td>\n",
       "      <td>0</td>\n",
       "      <td>finns lite bilder på offer i kommentarerna  fy...</td>\n",
       "    </tr>\n",
       "    <tr>\n",
       "      <th>3</th>\n",
       "      <td>44</td>\n",
       "      <td>0</td>\n",
       "      <td>angående videoklippet på folk som flyr     tit...</td>\n",
       "    </tr>\n",
       "    <tr>\n",
       "      <th>4</th>\n",
       "      <td>10</td>\n",
       "      <td>0</td>\n",
       "      <td>fast det gör ju inte du heller  i ditt inlägg</td>\n",
       "    </tr>\n",
       "    <tr>\n",
       "      <th>...</th>\n",
       "      <td>...</td>\n",
       "      <td>...</td>\n",
       "      <td>...</td>\n",
       "    </tr>\n",
       "    <tr>\n",
       "      <th>535</th>\n",
       "      <td>5</td>\n",
       "      <td>0</td>\n",
       "      <td>bild på den efterlyste mannen</td>\n",
       "    </tr>\n",
       "    <tr>\n",
       "      <th>536</th>\n",
       "      <td>45</td>\n",
       "      <td>0</td>\n",
       "      <td>man gör en  på riktigt  personen tror alltså a...</td>\n",
       "    </tr>\n",
       "    <tr>\n",
       "      <th>537</th>\n",
       "      <td>30</td>\n",
       "      <td>0</td>\n",
       "      <td>nyss spärrade man av e an norrut vid påfartern...</td>\n",
       "    </tr>\n",
       "    <tr>\n",
       "      <th>538</th>\n",
       "      <td>5</td>\n",
       "      <td>0</td>\n",
       "      <td>blir ahmedov med våra bokstäver</td>\n",
       "    </tr>\n",
       "    <tr>\n",
       "      <th>539</th>\n",
       "      <td>14</td>\n",
       "      <td>0</td>\n",
       "      <td>enligt aftonbladet erkände uzbeken i samband m...</td>\n",
       "    </tr>\n",
       "  </tbody>\n",
       "</table>\n",
       "<p>540 rows × 3 columns</p>\n",
       "</div>"
      ],
      "text/plain": [
       "      n  Labels                                       comment_text\n",
       "0    11       0  här ses lastbilen susa förbi filmat från överv...\n",
       "1    35       0  spendrups berättar att chauffören börjat lasta...\n",
       "2     9       0  finns lite bilder på offer i kommentarerna  fy...\n",
       "3    44       0  angående videoklippet på folk som flyr     tit...\n",
       "4    10       0      fast det gör ju inte du heller  i ditt inlägg\n",
       "..   ..     ...                                                ...\n",
       "535   5       0                      bild på den efterlyste mannen\n",
       "536  45       0  man gör en  på riktigt  personen tror alltså a...\n",
       "537  30       0  nyss spärrade man av e an norrut vid påfartern...\n",
       "538   5       0                    blir ahmedov med våra bokstäver\n",
       "539  14       0  enligt aftonbladet erkände uzbeken i samband m...\n",
       "\n",
       "[540 rows x 3 columns]"
      ]
     },
     "execution_count": 20,
     "metadata": {},
     "output_type": "execute_result"
    }
   ],
   "source": [
    "df_for_eval = pd.read_csv('df-for-eval-with-UD-final.csv')\n",
    "df_for_eval = df_for_eval.drop('Unnamed: 0', 1)\n",
    "df_for_eval"
   ]
  },
  {
   "cell_type": "code",
   "execution_count": 21,
   "id": "a9b46f5b",
   "metadata": {},
   "outputs": [
    {
     "data": {
      "text/plain": [
       "(9685, 512)"
      ]
     },
     "execution_count": 21,
     "metadata": {},
     "output_type": "execute_result"
    }
   ],
   "source": [
    "seq_len = 512\n",
    "num_samples = len(df)\n",
    "\n",
    "num_samples, seq_len"
   ]
  },
  {
   "cell_type": "code",
   "execution_count": 18,
   "id": "b56c0bae",
   "metadata": {},
   "outputs": [],
   "source": [
    "tokenizer = BertTokenizer.from_pretrained('KB/bert-base-swedish-cased')"
   ]
  },
  {
   "cell_type": "code",
   "execution_count": null,
   "id": "106ae0f7",
   "metadata": {},
   "outputs": [],
   "source": [
    "tokens = tokenizer(df['comment_text'].tolist(), max_length=seq_len, truncation=True,\n",
    "                   padding='max_length', add_special_tokens=True,\n",
    "                   return_tensors='np')"
   ]
  },
  {
   "cell_type": "code",
   "execution_count": 23,
   "id": "9bc737b9",
   "metadata": {},
   "outputs": [],
   "source": [
    "with open('toxic2-xids.npy', 'wb') as f:\n",
    "    np.save(f, tokens['input_ids'])\n",
    "with open('toxic2-xmask.npy', 'wb') as f:\n",
    "    np.save(f, tokens['attention_mask'])"
   ]
  },
  {
   "cell_type": "code",
   "execution_count": 24,
   "id": "18b60e59",
   "metadata": {},
   "outputs": [],
   "source": [
    "del tokens"
   ]
  },
  {
   "cell_type": "code",
   "execution_count": 25,
   "id": "ca4f5eac",
   "metadata": {},
   "outputs": [],
   "source": [
    "arr = df['Labels'].values"
   ]
  },
  {
   "cell_type": "code",
   "execution_count": 26,
   "id": "fab7dd4b",
   "metadata": {},
   "outputs": [
    {
     "data": {
      "text/plain": [
       "(9685, 3)"
      ]
     },
     "execution_count": 26,
     "metadata": {},
     "output_type": "execute_result"
    }
   ],
   "source": [
    "labels = np.zeros((num_samples, arr.max()+1))\n",
    "labels.shape"
   ]
  },
  {
   "cell_type": "code",
   "execution_count": 27,
   "id": "3251d128",
   "metadata": {},
   "outputs": [
    {
     "data": {
      "text/plain": [
       "array([[1., 0., 0.],\n",
       "       [1., 0., 0.],\n",
       "       [1., 0., 0.],\n",
       "       ...,\n",
       "       [0., 0., 1.],\n",
       "       [0., 0., 1.],\n",
       "       [0., 0., 1.]])"
      ]
     },
     "execution_count": 27,
     "metadata": {},
     "output_type": "execute_result"
    }
   ],
   "source": [
    "labels[np.arange(num_samples), arr] = 1\n",
    "\n",
    "labels"
   ]
  },
  {
   "cell_type": "code",
   "execution_count": 28,
   "id": "988b0fe0",
   "metadata": {},
   "outputs": [],
   "source": [
    "with open('toxic2-labels.npy', 'wb') as f:\n",
    "    np.save(f, labels)"
   ]
  },
  {
   "cell_type": "code",
   "execution_count": 29,
   "id": "6bd6a2d7",
   "metadata": {},
   "outputs": [],
   "source": [
    "with open('toxic2-xids.npy', 'rb') as f:\n",
    "    Xids = np.load(f, allow_pickle=True)\n",
    "with open('toxic2-xmask.npy', 'rb') as f:\n",
    "    Xmask = np.load(f, allow_pickle=True)\n",
    "with open('toxic2-labels.npy', 'rb') as f:\n",
    "    labels = np.load(f, allow_pickle=True)"
   ]
  },
  {
   "cell_type": "code",
   "execution_count": 30,
   "id": "421adfa3",
   "metadata": {},
   "outputs": [
    {
     "data": {
      "text/plain": [
       "<TakeDataset element_spec=(TensorSpec(shape=(512,), dtype=tf.int32, name=None), TensorSpec(shape=(512,), dtype=tf.int32, name=None), TensorSpec(shape=(3,), dtype=tf.float64, name=None))>"
      ]
     },
     "execution_count": 30,
     "metadata": {},
     "output_type": "execute_result"
    }
   ],
   "source": [
    "dataset = tf.data.Dataset.from_tensor_slices((Xids, Xmask, labels))\n",
    "\n",
    "dataset.take(1)"
   ]
  },
  {
   "cell_type": "code",
   "execution_count": 31,
   "id": "720c4bfb",
   "metadata": {},
   "outputs": [
    {
     "data": {
      "text/plain": [
       "<TakeDataset element_spec=({'input_ids': TensorSpec(shape=(512,), dtype=tf.int32, name=None), 'attention_mask': TensorSpec(shape=(512,), dtype=tf.int32, name=None)}, TensorSpec(shape=(3,), dtype=tf.float64, name=None))>"
      ]
     },
     "execution_count": 31,
     "metadata": {},
     "output_type": "execute_result"
    }
   ],
   "source": [
    "def map_func(input_ids, masks, labels):\n",
    "    # we convert our three-item tuple into a two-item tuple where the input item is a dictionary\n",
    "    return {'input_ids': input_ids, 'attention_mask': masks}, labels\n",
    "\n",
    "# then we use the dataset map method to apply this transformation\n",
    "dataset = dataset.map(map_func)\n",
    "\n",
    "dataset.take(1)"
   ]
  },
  {
   "cell_type": "code",
   "execution_count": 32,
   "id": "db5c5f3b",
   "metadata": {},
   "outputs": [
    {
     "data": {
      "text/plain": [
       "<TakeDataset element_spec=({'input_ids': TensorSpec(shape=(3, 512), dtype=tf.int32, name=None), 'attention_mask': TensorSpec(shape=(3, 512), dtype=tf.int32, name=None)}, TensorSpec(shape=(3, 3), dtype=tf.float64, name=None))>"
      ]
     },
     "execution_count": 32,
     "metadata": {},
     "output_type": "execute_result"
    }
   ],
   "source": [
    "batch_size = 3\n",
    "\n",
    "dataset = dataset.shuffle(10000).batch(batch_size, drop_remainder=True)\n",
    "\n",
    "dataset.take(1)"
   ]
  },
  {
   "cell_type": "code",
   "execution_count": 33,
   "id": "f83a3540",
   "metadata": {},
   "outputs": [
    {
     "data": {
      "text/plain": [
       "2905"
      ]
     },
     "execution_count": 33,
     "metadata": {},
     "output_type": "execute_result"
    }
   ],
   "source": [
    "split = 0.9\n",
    "\n",
    "# we need to calculate how many batches must be taken to create 90% training set\n",
    "size = int((Xids.shape[0] / batch_size) * split)\n",
    "\n",
    "size"
   ]
  },
  {
   "cell_type": "code",
   "execution_count": 34,
   "id": "ad3a660e",
   "metadata": {},
   "outputs": [],
   "source": [
    "train_ds = dataset.take(size)\n",
    "val_ds = dataset.skip(size)\n",
    "\n",
    "# free up memory\n",
    "del dataset"
   ]
  },
  {
   "cell_type": "code",
   "execution_count": 35,
   "id": "9e3a72ff",
   "metadata": {},
   "outputs": [],
   "source": [
    "tf.data.experimental.save(train_ds, 'train2')\n",
    "tf.data.experimental.save(val_ds, 'val2')"
   ]
  },
  {
   "cell_type": "code",
   "execution_count": 36,
   "id": "7ffbd0da",
   "metadata": {},
   "outputs": [
    {
     "data": {
      "text/plain": [
       "({'input_ids': TensorSpec(shape=(3, 512), dtype=tf.int32, name=None),\n",
       "  'attention_mask': TensorSpec(shape=(3, 512), dtype=tf.int32, name=None)},\n",
       " TensorSpec(shape=(3, 3), dtype=tf.float64, name=None))"
      ]
     },
     "execution_count": 36,
     "metadata": {},
     "output_type": "execute_result"
    }
   ],
   "source": [
    "train_ds.element_spec"
   ]
  },
  {
   "cell_type": "code",
   "execution_count": 37,
   "id": "d2f6f381",
   "metadata": {},
   "outputs": [
    {
     "data": {
      "text/plain": [
       "True"
      ]
     },
     "execution_count": 37,
     "metadata": {},
     "output_type": "execute_result"
    }
   ],
   "source": [
    "val_ds.element_spec == train_ds.element_spec"
   ]
  },
  {
   "cell_type": "code",
   "execution_count": 38,
   "id": "6e0dfab5",
   "metadata": {},
   "outputs": [],
   "source": [
    "ds = tf.data.experimental.load('train2', element_spec=train_ds.element_spec)"
   ]
  },
  {
   "cell_type": "code",
   "execution_count": 39,
   "id": "9cef0906",
   "metadata": {},
   "outputs": [
    {
     "name": "stderr",
     "output_type": "stream",
     "text": [
      "All model checkpoint layers were used when initializing TFBertForSequenceClassification.\n",
      "\n",
      "Some layers of TFBertForSequenceClassification were not initialized from the model checkpoint at KB/bert-base-swedish-cased and are newly initialized: ['classifier']\n",
      "You should probably TRAIN this model on a down-stream task to be able to use it for predictions and inference.\n"
     ]
    }
   ],
   "source": [
    "bert = TFBertForSequenceClassification.from_pretrained('KB/bert-base-swedish-cased')"
   ]
  },
  {
   "cell_type": "code",
   "execution_count": 40,
   "id": "74b73d09",
   "metadata": {},
   "outputs": [],
   "source": [
    "input_ids = tf.keras.layers.Input(shape=(512,), name='input_ids', dtype='int32')\n",
    "mask = tf.keras.layers.Input(shape=(512,), name='attention_mask', dtype='int32')"
   ]
  },
  {
   "cell_type": "code",
   "execution_count": 41,
   "id": "d4fa2318",
   "metadata": {},
   "outputs": [
    {
     "data": {
      "text/plain": [
       "<KerasTensor: shape=(None, 512) dtype=int32 (created by layer 'input_ids')>"
      ]
     },
     "execution_count": 41,
     "metadata": {},
     "output_type": "execute_result"
    }
   ],
   "source": [
    "input_ids"
   ]
  },
  {
   "cell_type": "code",
   "execution_count": 42,
   "id": "093422ed",
   "metadata": {},
   "outputs": [],
   "source": [
    "embeddings = bert.bert(input_ids, attention_mask=mask)[1]"
   ]
  },
  {
   "cell_type": "code",
   "execution_count": 43,
   "id": "df510e61",
   "metadata": {},
   "outputs": [],
   "source": [
    "x = tf.keras.layers.Dense(256, activation='relu')(embeddings)\n",
    "y = tf.keras.layers.Dense(3, activation='softmax', name='outputs')(x)"
   ]
  },
  {
   "cell_type": "code",
   "execution_count": 44,
   "id": "c296ec35",
   "metadata": {},
   "outputs": [],
   "source": [
    "model = tf.keras.Model(inputs=[input_ids, mask], outputs=y)"
   ]
  },
  {
   "cell_type": "code",
   "execution_count": 45,
   "id": "ec83ddbf",
   "metadata": {},
   "outputs": [
    {
     "name": "stdout",
     "output_type": "stream",
     "text": [
      "Model: \"model\"\n",
      "__________________________________________________________________________________________________\n",
      " Layer (type)                   Output Shape         Param #     Connected to                     \n",
      "==================================================================================================\n",
      " input_ids (InputLayer)         [(None, 512)]        0           []                               \n",
      "                                                                                                  \n",
      " attention_mask (InputLayer)    [(None, 512)]        0           []                               \n",
      "                                                                                                  \n",
      " bert (TFBertMainLayer)         TFBaseModelOutputWi  124690944   ['input_ids[0][0]',              \n",
      "                                thPoolingAndCrossAt               'attention_mask[0][0]']         \n",
      "                                tentions(last_hidde                                               \n",
      "                                n_state=(None, 512,                                               \n",
      "                                 768),                                                            \n",
      "                                 pooler_output=(Non                                               \n",
      "                                e, 768),                                                          \n",
      "                                 past_key_values=No                                               \n",
      "                                ne, hidden_states=N                                               \n",
      "                                one, attentions=Non                                               \n",
      "                                e, cross_attentions                                               \n",
      "                                =None)                                                            \n",
      "                                                                                                  \n",
      " dense (Dense)                  (None, 256)          196864      ['bert[0][1]']                   \n",
      "                                                                                                  \n",
      " outputs (Dense)                (None, 3)            771         ['dense[0][0]']                  \n",
      "                                                                                                  \n",
      "==================================================================================================\n",
      "Total params: 124,888,579\n",
      "Trainable params: 124,888,579\n",
      "Non-trainable params: 0\n",
      "__________________________________________________________________________________________________\n"
     ]
    }
   ],
   "source": [
    "model.summary()"
   ]
  },
  {
   "cell_type": "code",
   "execution_count": 46,
   "id": "116faae1",
   "metadata": {},
   "outputs": [],
   "source": [
    "optimizer = tf.keras.optimizers.Adam(learning_rate=1e-5, decay=1e-6)\n",
    "loss = tf.keras.losses.CategoricalCrossentropy()\n",
    "acc = tf.keras.metrics.CategoricalAccuracy('accuracy')\n",
    "prec = tf.keras.metrics.Precision()\n",
    "reca = tf.keras.metrics.Recall()\n",
    "f1_ = tfa.metrics.F1Score(num_classes=3,\n",
    "                        average='macro',\n",
    "                        threshold=0.5)\n",
    "\n",
    "model.compile(optimizer=optimizer, loss=loss, metrics=[acc, prec, reca, f1_])"
   ]
  },
  {
   "cell_type": "code",
   "execution_count": 47,
   "id": "5263d1c5",
   "metadata": {},
   "outputs": [],
   "source": [
    "element_spec = ({'input_ids': tf.TensorSpec(shape=(3, 512), dtype='int32', name=None),\n",
    "                 'attention_mask': tf.TensorSpec(shape=(3, 512), dtype='int32', name=None)},\n",
    "                tf.TensorSpec(shape=(3, 3), dtype=tf.float64, name=None))"
   ]
  },
  {
   "cell_type": "code",
   "execution_count": 48,
   "id": "0c7d1604",
   "metadata": {},
   "outputs": [],
   "source": [
    "train_ds = tf.data.experimental.load('train2', element_spec=element_spec)\n",
    "val_ds = tf.data.experimental.load('val2', element_spec=element_spec)"
   ]
  },
  {
   "cell_type": "code",
   "execution_count": 49,
   "id": "3713d395",
   "metadata": {},
   "outputs": [
    {
     "data": {
      "text/plain": [
       "<TakeDataset element_spec=({'input_ids': TensorSpec(shape=(3, 512), dtype=tf.int32, name=None), 'attention_mask': TensorSpec(shape=(3, 512), dtype=tf.int32, name=None)}, TensorSpec(shape=(3, 3), dtype=tf.float64, name=None))>"
      ]
     },
     "execution_count": 49,
     "metadata": {},
     "output_type": "execute_result"
    }
   ],
   "source": [
    "train_ds.take(1)"
   ]
  },
  {
   "cell_type": "code",
   "execution_count": 50,
   "id": "542177fb",
   "metadata": {},
   "outputs": [
    {
     "name": "stdout",
     "output_type": "stream",
     "text": [
      "2905/2905 [==============================] - 31090s 11s/step - loss: 0.5411 - accuracy: 0.7852 - precision: 0.8263 - recall: 0.7343 - f1_score: 0.7285 - val_loss: 0.1613 - val_accuracy: 0.9474 - val_precision: 0.9521 - val_recall: 0.9432 - val_f1_score: 0.9467\n"
     ]
    }
   ],
   "source": [
    "history_ = model.fit(\n",
    "    train_ds,\n",
    "    validation_data=val_ds,\n",
    "    epochs=1\n",
    ")"
   ]
  },
  {
   "cell_type": "code",
   "execution_count": 51,
   "id": "1b23ea39",
   "metadata": {},
   "outputs": [
    {
     "name": "stderr",
     "output_type": "stream",
     "text": [
      "WARNING:absl:Found untraced functions such as embeddings_layer_call_fn, embeddings_layer_call_and_return_conditional_losses, encoder_layer_call_fn, encoder_layer_call_and_return_conditional_losses, pooler_layer_call_fn while saving (showing 5 of 420). These functions will not be directly callable after loading.\n"
     ]
    },
    {
     "name": "stdout",
     "output_type": "stream",
     "text": [
      "INFO:tensorflow:Assets written to: toxic-bert-2\\assets\n"
     ]
    },
    {
     "name": "stderr",
     "output_type": "stream",
     "text": [
      "INFO:tensorflow:Assets written to: toxic-bert-2\\assets\n"
     ]
    }
   ],
   "source": [
    "model.save('toxic-bert-2')"
   ]
  },
  {
   "cell_type": "code",
   "execution_count": 3,
   "id": "ba03f7dd",
   "metadata": {},
   "outputs": [],
   "source": [
    "trained_model_Bert = tf.keras.models.load_model('toxic-bert-2')"
   ]
  },
  {
   "cell_type": "code",
   "execution_count": 4,
   "id": "9638ff03",
   "metadata": {},
   "outputs": [],
   "source": [
    "def prep_data(text):\n",
    "    tokens = tokenizer.encode_plus(text, max_length=512,\n",
    "                                   truncation=True, padding='max_length',\n",
    "                                   add_special_tokens=True, return_token_type_ids=False,\n",
    "                                   return_tensors='tf')\n",
    "    \n",
    "    return {'input_ids': tf.cast(tokens['input_ids'], tf.float64),\n",
    "            'attention_mask': tf.cast(tokens['attention_mask'], tf.float64)}"
   ]
  },
  {
   "cell_type": "code",
   "execution_count": 54,
   "id": "37acb0dc",
   "metadata": {},
   "outputs": [],
   "source": [
    "df_for_eval['Pred_Labs'] = None"
   ]
  },
  {
   "cell_type": "code",
   "execution_count": 55,
   "id": "2f108032",
   "metadata": {},
   "outputs": [
    {
     "data": {
      "text/html": [
       "<div>\n",
       "<style scoped>\n",
       "    .dataframe tbody tr th:only-of-type {\n",
       "        vertical-align: middle;\n",
       "    }\n",
       "\n",
       "    .dataframe tbody tr th {\n",
       "        vertical-align: top;\n",
       "    }\n",
       "\n",
       "    .dataframe thead th {\n",
       "        text-align: right;\n",
       "    }\n",
       "</style>\n",
       "<table border=\"1\" class=\"dataframe\">\n",
       "  <thead>\n",
       "    <tr style=\"text-align: right;\">\n",
       "      <th></th>\n",
       "      <th>n</th>\n",
       "      <th>Labels</th>\n",
       "      <th>comment_text</th>\n",
       "      <th>Pred_Labs</th>\n",
       "    </tr>\n",
       "  </thead>\n",
       "  <tbody>\n",
       "    <tr>\n",
       "      <th>0</th>\n",
       "      <td>11</td>\n",
       "      <td>0</td>\n",
       "      <td>här ses lastbilen susa förbi filmat från överv...</td>\n",
       "      <td>None</td>\n",
       "    </tr>\n",
       "    <tr>\n",
       "      <th>1</th>\n",
       "      <td>35</td>\n",
       "      <td>0</td>\n",
       "      <td>spendrups berättar att chauffören börjat lasta...</td>\n",
       "      <td>None</td>\n",
       "    </tr>\n",
       "    <tr>\n",
       "      <th>2</th>\n",
       "      <td>9</td>\n",
       "      <td>0</td>\n",
       "      <td>finns lite bilder på offer i kommentarerna  fy...</td>\n",
       "      <td>None</td>\n",
       "    </tr>\n",
       "    <tr>\n",
       "      <th>3</th>\n",
       "      <td>44</td>\n",
       "      <td>0</td>\n",
       "      <td>angående videoklippet på folk som flyr     tit...</td>\n",
       "      <td>None</td>\n",
       "    </tr>\n",
       "    <tr>\n",
       "      <th>4</th>\n",
       "      <td>10</td>\n",
       "      <td>0</td>\n",
       "      <td>fast det gör ju inte du heller  i ditt inlägg</td>\n",
       "      <td>None</td>\n",
       "    </tr>\n",
       "    <tr>\n",
       "      <th>...</th>\n",
       "      <td>...</td>\n",
       "      <td>...</td>\n",
       "      <td>...</td>\n",
       "      <td>...</td>\n",
       "    </tr>\n",
       "    <tr>\n",
       "      <th>535</th>\n",
       "      <td>5</td>\n",
       "      <td>0</td>\n",
       "      <td>bild på den efterlyste mannen</td>\n",
       "      <td>None</td>\n",
       "    </tr>\n",
       "    <tr>\n",
       "      <th>536</th>\n",
       "      <td>45</td>\n",
       "      <td>0</td>\n",
       "      <td>man gör en  på riktigt  personen tror alltså a...</td>\n",
       "      <td>None</td>\n",
       "    </tr>\n",
       "    <tr>\n",
       "      <th>537</th>\n",
       "      <td>30</td>\n",
       "      <td>0</td>\n",
       "      <td>nyss spärrade man av e an norrut vid påfartern...</td>\n",
       "      <td>None</td>\n",
       "    </tr>\n",
       "    <tr>\n",
       "      <th>538</th>\n",
       "      <td>5</td>\n",
       "      <td>0</td>\n",
       "      <td>blir ahmedov med våra bokstäver</td>\n",
       "      <td>None</td>\n",
       "    </tr>\n",
       "    <tr>\n",
       "      <th>539</th>\n",
       "      <td>14</td>\n",
       "      <td>0</td>\n",
       "      <td>enligt aftonbladet erkände uzbeken i samband m...</td>\n",
       "      <td>None</td>\n",
       "    </tr>\n",
       "  </tbody>\n",
       "</table>\n",
       "<p>540 rows × 4 columns</p>\n",
       "</div>"
      ],
      "text/plain": [
       "      n  Labels                                       comment_text Pred_Labs\n",
       "0    11       0  här ses lastbilen susa förbi filmat från överv...      None\n",
       "1    35       0  spendrups berättar att chauffören börjat lasta...      None\n",
       "2     9       0  finns lite bilder på offer i kommentarerna  fy...      None\n",
       "3    44       0  angående videoklippet på folk som flyr     tit...      None\n",
       "4    10       0      fast det gör ju inte du heller  i ditt inlägg      None\n",
       "..   ..     ...                                                ...       ...\n",
       "535   5       0                      bild på den efterlyste mannen      None\n",
       "536  45       0  man gör en  på riktigt  personen tror alltså a...      None\n",
       "537  30       0  nyss spärrade man av e an norrut vid påfartern...      None\n",
       "538   5       0                    blir ahmedov med våra bokstäver      None\n",
       "539  14       0  enligt aftonbladet erkände uzbeken i samband m...      None\n",
       "\n",
       "[540 rows x 4 columns]"
      ]
     },
     "execution_count": 55,
     "metadata": {},
     "output_type": "execute_result"
    }
   ],
   "source": [
    "df_for_eval"
   ]
  },
  {
   "cell_type": "code",
   "execution_count": 56,
   "id": "2b9d76ae",
   "metadata": {},
   "outputs": [
    {
     "data": {
      "text/html": [
       "<div>\n",
       "<style scoped>\n",
       "    .dataframe tbody tr th:only-of-type {\n",
       "        vertical-align: middle;\n",
       "    }\n",
       "\n",
       "    .dataframe tbody tr th {\n",
       "        vertical-align: top;\n",
       "    }\n",
       "\n",
       "    .dataframe thead th {\n",
       "        text-align: right;\n",
       "    }\n",
       "</style>\n",
       "<table border=\"1\" class=\"dataframe\">\n",
       "  <thead>\n",
       "    <tr style=\"text-align: right;\">\n",
       "      <th></th>\n",
       "      <th>n</th>\n",
       "      <th>Labels</th>\n",
       "      <th>comment_text</th>\n",
       "      <th>Pred_Labs</th>\n",
       "    </tr>\n",
       "  </thead>\n",
       "  <tbody>\n",
       "    <tr>\n",
       "      <th>0</th>\n",
       "      <td>11</td>\n",
       "      <td>0</td>\n",
       "      <td>här ses lastbilen susa förbi filmat från överv...</td>\n",
       "      <td>0</td>\n",
       "    </tr>\n",
       "    <tr>\n",
       "      <th>1</th>\n",
       "      <td>35</td>\n",
       "      <td>0</td>\n",
       "      <td>spendrups berättar att chauffören börjat lasta...</td>\n",
       "      <td>0</td>\n",
       "    </tr>\n",
       "    <tr>\n",
       "      <th>2</th>\n",
       "      <td>9</td>\n",
       "      <td>0</td>\n",
       "      <td>finns lite bilder på offer i kommentarerna  fy...</td>\n",
       "      <td>0</td>\n",
       "    </tr>\n",
       "    <tr>\n",
       "      <th>3</th>\n",
       "      <td>44</td>\n",
       "      <td>0</td>\n",
       "      <td>angående videoklippet på folk som flyr     tit...</td>\n",
       "      <td>0</td>\n",
       "    </tr>\n",
       "    <tr>\n",
       "      <th>4</th>\n",
       "      <td>10</td>\n",
       "      <td>0</td>\n",
       "      <td>fast det gör ju inte du heller  i ditt inlägg</td>\n",
       "      <td>0</td>\n",
       "    </tr>\n",
       "  </tbody>\n",
       "</table>\n",
       "</div>"
      ],
      "text/plain": [
       "    n  Labels                                       comment_text Pred_Labs\n",
       "0  11       0  här ses lastbilen susa förbi filmat från överv...         0\n",
       "1  35       0  spendrups berättar att chauffören börjat lasta...         0\n",
       "2   9       0  finns lite bilder på offer i kommentarerna  fy...         0\n",
       "3  44       0  angående videoklippet på folk som flyr     tit...         0\n",
       "4  10       0      fast det gör ju inte du heller  i ditt inlägg         0"
      ]
     },
     "execution_count": 56,
     "metadata": {},
     "output_type": "execute_result"
    }
   ],
   "source": [
    "for i, row in df_for_eval.iterrows():\n",
    "    # get token tensors\n",
    "    tokens = prep_data(row['comment_text'])\n",
    "    # get probabilities\n",
    "    probs = trained_model_Bert.predict(tokens)\n",
    "    # find argmax for winning class\n",
    "    pred = np.argmax(probs)\n",
    "    # add to dataframe\n",
    "    df_for_eval.at[i, 'Pred_Labs'] = pred\n",
    "\n",
    "df_for_eval.head()"
   ]
  },
  {
   "cell_type": "code",
   "execution_count": 57,
   "id": "6907b83e",
   "metadata": {},
   "outputs": [
    {
     "data": {
      "text/plain": [
       "array([0, 1, 2], dtype=object)"
      ]
     },
     "execution_count": 57,
     "metadata": {},
     "output_type": "execute_result"
    }
   ],
   "source": [
    "df_for_eval['Pred_Labs'].unique()"
   ]
  },
  {
   "cell_type": "code",
   "execution_count": 58,
   "id": "4448c788",
   "metadata": {},
   "outputs": [
    {
     "data": {
      "text/plain": [
       "array([0, 1, 2], dtype=int64)"
      ]
     },
     "execution_count": 58,
     "metadata": {},
     "output_type": "execute_result"
    }
   ],
   "source": [
    "df_for_eval['Labels'].unique()"
   ]
  },
  {
   "cell_type": "code",
   "execution_count": 59,
   "id": "c19f6963",
   "metadata": {},
   "outputs": [],
   "source": [
    "df_for_eval['Labels'] = df_for_eval['Labels'].astype(str)"
   ]
  },
  {
   "cell_type": "code",
   "execution_count": 60,
   "id": "3a922ca8",
   "metadata": {},
   "outputs": [],
   "source": [
    "df_for_eval['Pred_Labs'] = df_for_eval['Pred_Labs'].astype(str)"
   ]
  },
  {
   "cell_type": "code",
   "execution_count": 61,
   "id": "152f7708",
   "metadata": {},
   "outputs": [],
   "source": [
    "from sklearn.metrics import f1_score\n",
    "from sklearn.metrics import confusion_matrix\n",
    "y_true = df_for_eval['Labels']\n",
    "y_pred = df_for_eval['Pred_Labs']\n",
    "labels = [0,1,2]"
   ]
  },
  {
   "cell_type": "code",
   "execution_count": 62,
   "id": "91663e77",
   "metadata": {},
   "outputs": [],
   "source": [
    "cfm = confusion_matrix(y_true, y_pred)"
   ]
  },
  {
   "cell_type": "code",
   "execution_count": 63,
   "id": "ce1f44f3",
   "metadata": {},
   "outputs": [
    {
     "name": "stderr",
     "output_type": "stream",
     "text": [
      "C:\\Users\\anton\\anaconda3\\lib\\site-packages\\numpy\\lib\\arraysetops.py:579: FutureWarning: elementwise comparison failed; returning scalar instead, but in the future will perform elementwise comparison\n",
      "  >>> mask = np.in1d(test, states, invert=True)\n"
     ]
    }
   ],
   "source": [
    "f1_scores = f1_score(y_true, y_pred, average=None, labels=labels)\n",
    "f1_scores_with_labels = {label:score for label,score in zip(labels, f1_scores)}"
   ]
  },
  {
   "cell_type": "code",
   "execution_count": 64,
   "id": "4d02ac3e",
   "metadata": {},
   "outputs": [
    {
     "data": {
      "text/plain": [
       "{0: 0.9875424688561723, 1: 0.9459459459459458, 2: 0.8979591836734693}"
      ]
     },
     "execution_count": 64,
     "metadata": {},
     "output_type": "execute_result"
    }
   ],
   "source": [
    "f1_scores\n",
    "f1_scores_with_labels"
   ]
  },
  {
   "cell_type": "code",
   "execution_count": 65,
   "id": "19130cea",
   "metadata": {},
   "outputs": [],
   "source": [
    "import seaborn as sn\n",
    "import matplotlib.pyplot as plt"
   ]
  },
  {
   "cell_type": "code",
   "execution_count": 66,
   "id": "b19bc036",
   "metadata": {},
   "outputs": [
    {
     "data": {
      "text/plain": [
       "<AxesSubplot:>"
      ]
     },
     "execution_count": 66,
     "metadata": {},
     "output_type": "execute_result"
    },
    {
     "data": {
      "image/png": "[encoded data removed]",
      "text/plain": [
       "<Figure size 1224x504 with 2 Axes>"
      ]
     },
     "metadata": {
      "needs_background": "light"
     },
     "output_type": "display_data"
    }
   ],
   "source": [
    "x_axis_labels = ['Predicted label 0','Predicted label 1','Predicted label 2']\n",
    "y_axis_labels = ['Actual label 0','Actual label 1','Actual label 2'] \n",
    "fig = plt.figure(figsize=(17,7))\n",
    "plt.subplot(1,3,1)\n",
    "sn.heatmap(cfm, xticklabels=x_axis_labels, yticklabels=y_axis_labels, annot=True)"
   ]
  },
  {
   "cell_type": "code",
   "execution_count": 68,
   "id": "bb9bc62a",
   "metadata": {},
   "outputs": [],
   "source": [
    "from sklearn.metrics import accuracy_score\n",
    "from sklearn.metrics import classification_report"
   ]
  },
  {
   "cell_type": "code",
   "execution_count": 72,
   "id": "20be0738",
   "metadata": {},
   "outputs": [],
   "source": [
    "y_true = df_for_eval['Labels']\n",
    "y_pred = df_for_eval['Pred_Labs']\n",
    "labels = [0,1,2]"
   ]
  },
  {
   "cell_type": "code",
   "execution_count": 73,
   "id": "8c6a2025",
   "metadata": {},
   "outputs": [
    {
     "data": {
      "text/plain": [
       "0.9777777777777777"
      ]
     },
     "execution_count": 73,
     "metadata": {},
     "output_type": "execute_result"
    }
   ],
   "source": [
    "accuracy_score(y_true, y_pred)"
   ]
  },
  {
   "cell_type": "code",
   "execution_count": 74,
   "id": "d123b976",
   "metadata": {},
   "outputs": [
    {
     "name": "stdout",
     "output_type": "stream",
     "text": [
      "              precision    recall  f1-score   support\n",
      "\n",
      "           0       0.99      0.99      0.99       442\n",
      "           1       0.97      0.92      0.95        76\n",
      "           2       0.81      1.00      0.90        22\n",
      "\n",
      "    accuracy                           0.98       540\n",
      "   macro avg       0.93      0.97      0.94       540\n",
      "weighted avg       0.98      0.98      0.98       540\n",
      "\n"
     ]
    }
   ],
   "source": [
    "print(classification_report(y_true,y_pred))"
   ]
  },
  {
   "cell_type": "code",
   "execution_count": 75,
   "id": "1a2cf355",
   "metadata": {},
   "outputs": [
    {
     "name": "stderr",
     "output_type": "stream",
     "text": [
      "C:\\Users\\anton\\anaconda3\\lib\\site-packages\\numpy\\lib\\arraysetops.py:579: FutureWarning: elementwise comparison failed; returning scalar instead, but in the future will perform elementwise comparison\n",
      "  >>> mask = np.in1d(test, states, invert=True)\n",
      "C:\\Users\\anton\\anaconda3\\lib\\site-packages\\numpy\\lib\\arraysetops.py:579: FutureWarning: elementwise comparison failed; returning scalar instead, but in the future will perform elementwise comparison\n",
      "  >>> mask = np.in1d(test, states, invert=True)\n",
      "C:\\Users\\anton\\anaconda3\\lib\\site-packages\\numpy\\lib\\arraysetops.py:579: FutureWarning: elementwise comparison failed; returning scalar instead, but in the future will perform elementwise comparison\n",
      "  >>> mask = np.in1d(test, states, invert=True)\n",
      "C:\\Users\\anton\\anaconda3\\lib\\site-packages\\numpy\\lib\\arraysetops.py:579: FutureWarning: elementwise comparison failed; returning scalar instead, but in the future will perform elementwise comparison\n",
      "  >>> mask = np.in1d(test, states, invert=True)\n"
     ]
    }
   ],
   "source": [
    "clf_report = classification_report(y_true,\n",
    "                                   y_pred,\n",
    "                                   labels=labels,\n",
    "                                   target_names=labels,\n",
    "                                   output_dict=True)"
   ]
  },
  {
   "cell_type": "code",
   "execution_count": 76,
   "id": "8fc442b3",
   "metadata": {},
   "outputs": [],
   "source": [
    "import seaborn as sn"
   ]
  },
  {
   "cell_type": "code",
   "execution_count": 77,
   "id": "76089f95",
   "metadata": {},
   "outputs": [
    {
     "data": {
      "text/plain": [
       "<AxesSubplot:>"
      ]
     },
     "execution_count": 77,
     "metadata": {},
     "output_type": "execute_result"
    },
    {
     "data": {
      "image/png": "[encoded data removed]",
      "text/plain": [
       "<Figure size 432x288 with 2 Axes>"
      ]
     },
     "metadata": {
      "needs_background": "light"
     },
     "output_type": "display_data"
    }
   ],
   "source": [
    "sn.heatmap(pd.DataFrame(clf_report).iloc[:-1, :].T, annot=True)"
   ]
  },
  {
   "cell_type": "code",
   "execution_count": 4,
   "id": "ebe8d26d",
   "metadata": {},
   "outputs": [],
   "source": [
    "df_pr = pd.read_csv(\"Annotation-data-test.csv\")"
   ]
  },
  {
   "cell_type": "code",
   "execution_count": 5,
   "id": "6ee5a2d0",
   "metadata": {},
   "outputs": [
    {
     "name": "stderr",
     "output_type": "stream",
     "text": [
      "C:\\Users\\anton\\AppData\\Local\\Temp/ipykernel_15708/3171545454.py:1: FutureWarning: In a future version of pandas all arguments of DataFrame.drop except for the argument 'labels' will be keyword-only.\n",
      "  df_pr = df_pr.drop('Unnamed: 0', 1)\n"
     ]
    }
   ],
   "source": [
    "df_pr = df_pr.drop('Unnamed: 0', 1)"
   ]
  },
  {
   "cell_type": "code",
   "execution_count": 7,
   "id": "1fb1d081",
   "metadata": {},
   "outputs": [],
   "source": [
    "df_pr = df_pr[df_pr['lab_toxic'].isna()]"
   ]
  },
  {
   "cell_type": "code",
   "execution_count": 8,
   "id": "6ee05f41",
   "metadata": {},
   "outputs": [],
   "source": [
    "df_pr = df_pr.drop(['lab_toxic', 'lab_undetermined', 'lab_not_toxic'], axis = 1)"
   ]
  },
  {
   "cell_type": "code",
   "execution_count": 9,
   "id": "f89169d2",
   "metadata": {},
   "outputs": [],
   "source": [
    "df_pr['comment_text'] = df_pr['comment.text']"
   ]
  },
  {
   "cell_type": "code",
   "execution_count": 10,
   "id": "ff050389",
   "metadata": {},
   "outputs": [],
   "source": [
    "df_pr = df_pr.drop(['comment.text'], axis = 1)"
   ]
  },
  {
   "cell_type": "code",
   "execution_count": 17,
   "id": "b2eba838",
   "metadata": {},
   "outputs": [
    {
     "data": {
      "text/html": [
       "<div>\n",
       "<style scoped>\n",
       "    .dataframe tbody tr th:only-of-type {\n",
       "        vertical-align: middle;\n",
       "    }\n",
       "\n",
       "    .dataframe tbody tr th {\n",
       "        vertical-align: top;\n",
       "    }\n",
       "\n",
       "    .dataframe thead th {\n",
       "        text-align: right;\n",
       "    }\n",
       "</style>\n",
       "<table border=\"1\" class=\"dataframe\">\n",
       "  <thead>\n",
       "    <tr style=\"text-align: right;\">\n",
       "      <th></th>\n",
       "      <th>id</th>\n",
       "      <th>post.nr</th>\n",
       "      <th>date</th>\n",
       "      <th>n</th>\n",
       "      <th>phaseType</th>\n",
       "      <th>Machine_Translation</th>\n",
       "      <th>toxicity</th>\n",
       "      <th>severe_toxicity</th>\n",
       "      <th>comment_text</th>\n",
       "      <th>Labels</th>\n",
       "    </tr>\n",
       "  </thead>\n",
       "  <tbody>\n",
       "    <tr>\n",
       "      <th>5400</th>\n",
       "      <td>1959</td>\n",
       "      <td>5444</td>\n",
       "      <td>4/8/2017</td>\n",
       "      <td>49</td>\n",
       "      <td>A</td>\n",
       "      <td>Maybe it was a vain attempt to protect his rel...</td>\n",
       "      <td>0.004237533</td>\n",
       "      <td>0.000004</td>\n",
       "      <td>kanske var ett fåfängt försök att skydda sina ...</td>\n",
       "      <td>0</td>\n",
       "    </tr>\n",
       "    <tr>\n",
       "      <th>5401</th>\n",
       "      <td>2481</td>\n",
       "      <td>5445</td>\n",
       "      <td>4/8/2017</td>\n",
       "      <td>6</td>\n",
       "      <td>A</td>\n",
       "      <td>recently received phone calls that gunfire occ...</td>\n",
       "      <td>0.00058239576</td>\n",
       "      <td>0.000002</td>\n",
       "      <td>fick nyligen telefonsamtal att skottlossning f...</td>\n",
       "      <td>0</td>\n",
       "    </tr>\n",
       "    <tr>\n",
       "      <th>5402</th>\n",
       "      <td>1184</td>\n",
       "      <td>5446</td>\n",
       "      <td>4/8/2017</td>\n",
       "      <td>29</td>\n",
       "      <td>A</td>\n",
       "      <td>the strike in the springberg someone who knows...</td>\n",
       "      <td>0.00068851287</td>\n",
       "      <td>0.000001</td>\n",
       "      <td>tillslaget i vårberg  någon som vet adress och...</td>\n",
       "      <td>0</td>\n",
       "    </tr>\n",
       "    <tr>\n",
       "      <th>5403</th>\n",
       "      <td>921</td>\n",
       "      <td>5447</td>\n",
       "      <td>4/8/2017</td>\n",
       "      <td>10</td>\n",
       "      <td>A</td>\n",
       "      <td>is it confirmed that there was an explosive ch...</td>\n",
       "      <td>0.00064745656</td>\n",
       "      <td>0.000002</td>\n",
       "      <td>är det bekräftat att det var en sprängladdning...</td>\n",
       "      <td>0</td>\n",
       "    </tr>\n",
       "    <tr>\n",
       "      <th>5404</th>\n",
       "      <td>848</td>\n",
       "      <td>5448</td>\n",
       "      <td>4/8/2017</td>\n",
       "      <td>29</td>\n",
       "      <td>A</td>\n",
       "      <td>saw now fyfan hope gm encounters a times worse...</td>\n",
       "      <td>0.07736898</td>\n",
       "      <td>0.000025</td>\n",
       "      <td>såg nu  fyfan  hoppas gm råkar ut för en  ggr ...</td>\n",
       "      <td>0</td>\n",
       "    </tr>\n",
       "  </tbody>\n",
       "</table>\n",
       "</div>"
      ],
      "text/plain": [
       "        id  post.nr      date   n phaseType  \\\n",
       "5400  1959     5444  4/8/2017  49         A   \n",
       "5401  2481     5445  4/8/2017   6         A   \n",
       "5402  1184     5446  4/8/2017  29         A   \n",
       "5403   921     5447  4/8/2017  10         A   \n",
       "5404   848     5448  4/8/2017  29         A   \n",
       "\n",
       "                                    Machine_Translation       toxicity  \\\n",
       "5400  Maybe it was a vain attempt to protect his rel...    0.004237533   \n",
       "5401  recently received phone calls that gunfire occ...  0.00058239576   \n",
       "5402  the strike in the springberg someone who knows...  0.00068851287   \n",
       "5403  is it confirmed that there was an explosive ch...  0.00064745656   \n",
       "5404  saw now fyfan hope gm encounters a times worse...     0.07736898   \n",
       "\n",
       "      severe_toxicity                                       comment_text  \\\n",
       "5400         0.000004  kanske var ett fåfängt försök att skydda sina ...   \n",
       "5401         0.000002  fick nyligen telefonsamtal att skottlossning f...   \n",
       "5402         0.000001  tillslaget i vårberg  någon som vet adress och...   \n",
       "5403         0.000002  är det bekräftat att det var en sprängladdning...   \n",
       "5404         0.000025  såg nu  fyfan  hoppas gm råkar ut för en  ggr ...   \n",
       "\n",
       "     Labels  \n",
       "5400      0  \n",
       "5401      0  \n",
       "5402      0  \n",
       "5403      0  \n",
       "5404      0  "
      ]
     },
     "execution_count": 17,
     "metadata": {},
     "output_type": "execute_result"
    }
   ],
   "source": [
    "df_pr['Labels'] = None\n",
    "\n",
    "for i, row in df_pr.iterrows():\n",
    "    # get token tensors\n",
    "    tokens = prep_data(row['comment_text'])\n",
    "    # get probabilities\n",
    "    probs = trained_model_Bert.predict(tokens)\n",
    "    # find argmax for winning class\n",
    "    pred = np.argmax(probs)\n",
    "    # add to dataframe\n",
    "    df_pr.at[i, 'Labels'] = pred\n",
    "\n",
    "df_pr.head()"
   ]
  },
  {
   "cell_type": "code",
   "execution_count": 18,
   "id": "8483f08b",
   "metadata": {},
   "outputs": [
    {
     "data": {
      "text/plain": [
       "0    8445\n",
       "1     580\n",
       "2     172\n",
       "Name: Labels, dtype: int64"
      ]
     },
     "execution_count": 18,
     "metadata": {},
     "output_type": "execute_result"
    }
   ],
   "source": [
    "df_pr['Labels'].value_counts()"
   ]
  },
  {
   "cell_type": "code",
   "execution_count": 19,
   "id": "535d225a",
   "metadata": {},
   "outputs": [],
   "source": [
    "df_pr.to_csv('df_pr.csv', index = True, encoding = 'utf-8-sig')"
   ]
  },
  {
   "cell_type": "code",
   "execution_count": 33,
   "id": "35657f42",
   "metadata": {},
   "outputs": [],
   "source": [
    "df_ = pd.read_csv(\"Annotation-data-test.csv\")"
   ]
  },
  {
   "cell_type": "code",
   "execution_count": 21,
   "id": "906bd475",
   "metadata": {},
   "outputs": [
    {
     "name": "stderr",
     "output_type": "stream",
     "text": [
      "C:\\Users\\anton\\AppData\\Local\\Temp/ipykernel_15708/3488948141.py:1: FutureWarning: In a future version of pandas all arguments of DataFrame.drop except for the argument 'labels' will be keyword-only.\n",
      "  df_ = df_.drop('Unnamed: 0', 1)\n"
     ]
    }
   ],
   "source": [
    "df_ = df_.drop('Unnamed: 0', 1)"
   ]
  },
  {
   "cell_type": "code",
   "execution_count": 22,
   "id": "596329e4",
   "metadata": {},
   "outputs": [],
   "source": [
    "cols = df_.iloc[:, 9:12]"
   ]
  },
  {
   "cell_type": "code",
   "execution_count": 23,
   "id": "6318471c",
   "metadata": {},
   "outputs": [],
   "source": [
    "def get_labels(row):\n",
    "    for col in cols:\n",
    "        if row[col] == 1:\n",
    "            return col\n",
    "\n",
    "df_['Labels'] = df_.apply(get_labels, axis=1)"
   ]
  },
  {
   "cell_type": "code",
   "execution_count": 24,
   "id": "330add87",
   "metadata": {},
   "outputs": [],
   "source": [
    "df_['comment_text'] = df_['comment.text']"
   ]
  },
  {
   "cell_type": "code",
   "execution_count": 25,
   "id": "28960e6d",
   "metadata": {},
   "outputs": [],
   "source": [
    "df_ = df_.drop(['comment.text','lab_toxic', 'lab_undetermined', 'lab_not_toxic'], axis = 1)"
   ]
  },
  {
   "cell_type": "code",
   "execution_count": 26,
   "id": "d92caef0",
   "metadata": {},
   "outputs": [],
   "source": [
    "df_ = df_.dropna()"
   ]
  },
  {
   "cell_type": "code",
   "execution_count": 27,
   "id": "0d192b27",
   "metadata": {},
   "outputs": [],
   "source": [
    "from sklearn.preprocessing import LabelEncoder\n",
    "le = LabelEncoder()\n",
    "df_['Labels'] = le.fit_transform(df_['Labels'])"
   ]
  },
  {
   "cell_type": "code",
   "execution_count": 28,
   "id": "bd55c537",
   "metadata": {},
   "outputs": [],
   "source": [
    "df_ = df_.reindex(columns=['id','post.nr','date','n','phaseType','Labels','comment_text','Machine_Translation', 'toxicity', 'severe_toxicity'])"
   ]
  },
  {
   "cell_type": "code",
   "execution_count": 29,
   "id": "9a939471",
   "metadata": {},
   "outputs": [],
   "source": [
    "df_pr = df_pr.reindex(columns=['id','post.nr','date','n','phaseType','Labels','comment_text','Machine_Translation', 'toxicity', 'severe_toxicity'])"
   ]
  },
  {
   "cell_type": "code",
   "execution_count": 30,
   "id": "377c9fc3",
   "metadata": {},
   "outputs": [
    {
     "name": "stderr",
     "output_type": "stream",
     "text": [
      "C:\\Users\\anton\\AppData\\Local\\Temp/ipykernel_15708/3863484548.py:1: FutureWarning: The frame.append method is deprecated and will be removed from pandas in a future version. Use pandas.concat instead.\n",
      "  bigdata = df_.append(df_pr, ignore_index=True)\n"
     ]
    }
   ],
   "source": [
    "bigdata = df_.append(df_pr, ignore_index=True)"
   ]
  },
  {
   "cell_type": "code",
   "execution_count": 31,
   "id": "97f398c9",
   "metadata": {},
   "outputs": [
    {
     "data": {
      "text/html": [
       "<div>\n",
       "<style scoped>\n",
       "    .dataframe tbody tr th:only-of-type {\n",
       "        vertical-align: middle;\n",
       "    }\n",
       "\n",
       "    .dataframe tbody tr th {\n",
       "        vertical-align: top;\n",
       "    }\n",
       "\n",
       "    .dataframe thead th {\n",
       "        text-align: right;\n",
       "    }\n",
       "</style>\n",
       "<table border=\"1\" class=\"dataframe\">\n",
       "  <thead>\n",
       "    <tr style=\"text-align: right;\">\n",
       "      <th></th>\n",
       "      <th>id</th>\n",
       "      <th>post.nr</th>\n",
       "      <th>date</th>\n",
       "      <th>n</th>\n",
       "      <th>phaseType</th>\n",
       "      <th>Labels</th>\n",
       "      <th>comment_text</th>\n",
       "      <th>Machine_Translation</th>\n",
       "      <th>toxicity</th>\n",
       "      <th>severe_toxicity</th>\n",
       "    </tr>\n",
       "  </thead>\n",
       "  <tbody>\n",
       "    <tr>\n",
       "      <th>0</th>\n",
       "      <td>2320</td>\n",
       "      <td>1</td>\n",
       "      <td>4/7/2017</td>\n",
       "      <td>51</td>\n",
       "      <td>A</td>\n",
       "      <td>0</td>\n",
       "      <td>fick just samtal att en lastbil kört över mass...</td>\n",
       "      <td>just got the call that a truck drove over a lo...</td>\n",
       "      <td>0.00047108432</td>\n",
       "      <td>0.000001</td>\n",
       "    </tr>\n",
       "    <tr>\n",
       "      <th>1</th>\n",
       "      <td>2369</td>\n",
       "      <td>2</td>\n",
       "      <td>4/7/2017</td>\n",
       "      <td>116</td>\n",
       "      <td>A</td>\n",
       "      <td>0</td>\n",
       "      <td>andra trådar kopplade till terrorattentatet på...</td>\n",
       "      <td>other threads linked to the terrorist attack o...</td>\n",
       "      <td>0.016395519</td>\n",
       "      <td>0.000048</td>\n",
       "    </tr>\n",
       "    <tr>\n",
       "      <th>2</th>\n",
       "      <td>1444</td>\n",
       "      <td>3</td>\n",
       "      <td>4/7/2017</td>\n",
       "      <td>15</td>\n",
       "      <td>A</td>\n",
       "      <td>0</td>\n",
       "      <td>har även jag hört från en på plats  nya spänna...</td>\n",
       "      <td>I have also heard from an on-site new exciting...</td>\n",
       "      <td>0.00052031956</td>\n",
       "      <td>0.000001</td>\n",
       "    </tr>\n",
       "    <tr>\n",
       "      <th>3</th>\n",
       "      <td>2428</td>\n",
       "      <td>4</td>\n",
       "      <td>4/7/2017</td>\n",
       "      <td>17</td>\n",
       "      <td>A</td>\n",
       "      <td>0</td>\n",
       "      <td>enligt nyhetsflash från aftonbladet har en las...</td>\n",
       "      <td>According to news flash from the evening paper...</td>\n",
       "      <td>0.00070197333</td>\n",
       "      <td>0.000001</td>\n",
       "    </tr>\n",
       "    <tr>\n",
       "      <th>4</th>\n",
       "      <td>2470</td>\n",
       "      <td>5</td>\n",
       "      <td>4/7/2017</td>\n",
       "      <td>1</td>\n",
       "      <td>A</td>\n",
       "      <td>0</td>\n",
       "      <td>terrorattack</td>\n",
       "      <td>terrorist attack</td>\n",
       "      <td>0.052802633</td>\n",
       "      <td>0.000011</td>\n",
       "    </tr>\n",
       "    <tr>\n",
       "      <th>...</th>\n",
       "      <td>...</td>\n",
       "      <td>...</td>\n",
       "      <td>...</td>\n",
       "      <td>...</td>\n",
       "      <td>...</td>\n",
       "      <td>...</td>\n",
       "      <td>...</td>\n",
       "      <td>...</td>\n",
       "      <td>...</td>\n",
       "      <td>...</td>\n",
       "    </tr>\n",
       "    <tr>\n",
       "      <th>14587</th>\n",
       "      <td>137</td>\n",
       "      <td>14709</td>\n",
       "      <td>12/23/2021</td>\n",
       "      <td>11</td>\n",
       "      <td>C</td>\n",
       "      <td>0</td>\n",
       "      <td>muhammad mördade både kvinnor  barn och äldre ...</td>\n",
       "      <td>Muhammad murdered both women children and olde...</td>\n",
       "      <td>0.098266706</td>\n",
       "      <td>0.000064</td>\n",
       "    </tr>\n",
       "    <tr>\n",
       "      <th>14588</th>\n",
       "      <td>1123</td>\n",
       "      <td>14710</td>\n",
       "      <td>12/24/2021</td>\n",
       "      <td>261</td>\n",
       "      <td>C</td>\n",
       "      <td>0</td>\n",
       "      <td>tack för ditt intressanta inlägg    det är rel...</td>\n",
       "      <td>Thanks for your interesting post it is relativ...</td>\n",
       "      <td>0.5762896</td>\n",
       "      <td>0.002090</td>\n",
       "    </tr>\n",
       "    <tr>\n",
       "      <th>14589</th>\n",
       "      <td>39</td>\n",
       "      <td>14711</td>\n",
       "      <td>12/24/2021</td>\n",
       "      <td>23</td>\n",
       "      <td>C</td>\n",
       "      <td>0</td>\n",
       "      <td>problemet är att sverige har ingen skarprättar...</td>\n",
       "      <td>The problem is that Sweden has no executioner ...</td>\n",
       "      <td>0.07746462</td>\n",
       "      <td>0.000018</td>\n",
       "    </tr>\n",
       "    <tr>\n",
       "      <th>14590</th>\n",
       "      <td>1884</td>\n",
       "      <td>14712</td>\n",
       "      <td>12/25/2021</td>\n",
       "      <td>60</td>\n",
       "      <td>C</td>\n",
       "      <td>1</td>\n",
       "      <td>även en blind höna hittar ett korn  dvs det är...</td>\n",
       "      <td>even a blind hen finds a grain i.e. it's posit...</td>\n",
       "      <td>0.0024845921</td>\n",
       "      <td>0.000003</td>\n",
       "    </tr>\n",
       "    <tr>\n",
       "      <th>14591</th>\n",
       "      <td>2109</td>\n",
       "      <td>14713</td>\n",
       "      <td>12/27/2021</td>\n",
       "      <td>3</td>\n",
       "      <td>C</td>\n",
       "      <td>0</td>\n",
       "      <td>infogade ämne     mod</td>\n",
       "      <td>inserted subject mod</td>\n",
       "      <td>0.0010676786</td>\n",
       "      <td>0.000003</td>\n",
       "    </tr>\n",
       "  </tbody>\n",
       "</table>\n",
       "<p>14592 rows × 10 columns</p>\n",
       "</div>"
      ],
      "text/plain": [
       "         id  post.nr        date    n phaseType Labels  \\\n",
       "0      2320        1    4/7/2017   51         A      0   \n",
       "1      2369        2    4/7/2017  116         A      0   \n",
       "2      1444        3    4/7/2017   15         A      0   \n",
       "3      2428        4    4/7/2017   17         A      0   \n",
       "4      2470        5    4/7/2017    1         A      0   \n",
       "...     ...      ...         ...  ...       ...    ...   \n",
       "14587   137    14709  12/23/2021   11         C      0   \n",
       "14588  1123    14710  12/24/2021  261         C      0   \n",
       "14589    39    14711  12/24/2021   23         C      0   \n",
       "14590  1884    14712  12/25/2021   60         C      1   \n",
       "14591  2109    14713  12/27/2021    3         C      0   \n",
       "\n",
       "                                            comment_text  \\\n",
       "0      fick just samtal att en lastbil kört över mass...   \n",
       "1      andra trådar kopplade till terrorattentatet på...   \n",
       "2      har även jag hört från en på plats  nya spänna...   \n",
       "3      enligt nyhetsflash från aftonbladet har en las...   \n",
       "4                                           terrorattack   \n",
       "...                                                  ...   \n",
       "14587  muhammad mördade både kvinnor  barn och äldre ...   \n",
       "14588  tack för ditt intressanta inlägg    det är rel...   \n",
       "14589  problemet är att sverige har ingen skarprättar...   \n",
       "14590  även en blind höna hittar ett korn  dvs det är...   \n",
       "14591                              infogade ämne     mod   \n",
       "\n",
       "                                     Machine_Translation       toxicity  \\\n",
       "0      just got the call that a truck drove over a lo...  0.00047108432   \n",
       "1      other threads linked to the terrorist attack o...    0.016395519   \n",
       "2      I have also heard from an on-site new exciting...  0.00052031956   \n",
       "3      According to news flash from the evening paper...  0.00070197333   \n",
       "4                                       terrorist attack    0.052802633   \n",
       "...                                                  ...            ...   \n",
       "14587  Muhammad murdered both women children and olde...    0.098266706   \n",
       "14588  Thanks for your interesting post it is relativ...      0.5762896   \n",
       "14589  The problem is that Sweden has no executioner ...     0.07746462   \n",
       "14590  even a blind hen finds a grain i.e. it's posit...   0.0024845921   \n",
       "14591                               inserted subject mod   0.0010676786   \n",
       "\n",
       "       severe_toxicity  \n",
       "0             0.000001  \n",
       "1             0.000048  \n",
       "2             0.000001  \n",
       "3             0.000001  \n",
       "4             0.000011  \n",
       "...                ...  \n",
       "14587         0.000064  \n",
       "14588         0.002090  \n",
       "14589         0.000018  \n",
       "14590         0.000003  \n",
       "14591         0.000003  \n",
       "\n",
       "[14592 rows x 10 columns]"
      ]
     },
     "execution_count": 31,
     "metadata": {},
     "output_type": "execute_result"
    }
   ],
   "source": [
    "bigdata"
   ]
  },
  {
   "cell_type": "code",
   "execution_count": 32,
   "id": "655e188e",
   "metadata": {},
   "outputs": [],
   "source": [
    "bigdata.to_csv('bigdata-W-UD.csv', index = True, encoding = 'utf-8-sig')"
   ]
  },
  {
   "cell_type": "code",
   "execution_count": 185,
   "id": "b94e85fd",
   "metadata": {},
   "outputs": [],
   "source": [
    "column = bigdata[\"id\"]\n",
    "max_value = column.max()"
   ]
  },
  {
   "cell_type": "code",
   "execution_count": 186,
   "id": "1e849da0",
   "metadata": {},
   "outputs": [
    {
     "data": {
      "text/plain": [
       "2656"
      ]
     },
     "execution_count": 186,
     "metadata": {},
     "output_type": "execute_result"
    }
   ],
   "source": [
    "max_value"
   ]
  }
 ],
 "metadata": {
  "kernelspec": {
   "display_name": "Python 3 (ipykernel)",
   "language": "python",
   "name": "python3"
  },
  "language_info": {
   "codemirror_mode": {
    "name": "ipython",
    "version": 3
   },
   "file_extension": ".py",
   "mimetype": "text/x-python",
   "name": "python",
   "nbconvert_exporter": "python",
   "pygments_lexer": "ipython3",
   "version": "3.8.8"
  }
 },
 "nbformat": 4,
 "nbformat_minor": 5
}
